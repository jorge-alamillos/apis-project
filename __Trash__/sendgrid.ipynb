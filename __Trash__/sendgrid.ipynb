{
 "cells": [
  {
   "cell_type": "code",
   "execution_count": 64,
   "metadata": {},
   "outputs": [
    {
     "name": "stdout",
     "output_type": "stream",
     "text": [
      "3    2010-06-07\n",
      "Name: Date, dtype: object\n"
     ]
    },
    {
     "data": {
      "text/plain": [
       "'2010-06-07'"
      ]
     },
     "execution_count": 64,
     "metadata": {},
     "output_type": "execute_result"
    }
   ],
   "source": [
    "import pandas as pd\n",
    "import re\n",
    "import datetime\n",
    "\n",
    "mdl = pd.read_csv(\"intro_dates.csv\")\n",
    "mdl = mdl[mdl[\"Model\"] == \"iPhone 4\"][\"Date\"]\n",
    "x = str(mdl)\n",
    "print(x)\n",
    "y = re.findall(r\"\\d{4}-\\d{2}-\\d{2}\",x)\n",
    "for i in y:\n",
    "    x =str(i)\n",
    "\n",
    "x   "
   ]
  },
  {
   "cell_type": "code",
   "execution_count": null,
   "metadata": {},
   "outputs": [],
   "source": []
  }
 ],
 "metadata": {
  "kernelspec": {
   "display_name": "Python 3",
   "language": "python",
   "name": "python3"
  },
  "language_info": {
   "codemirror_mode": {
    "name": "ipython",
    "version": 3
   },
   "file_extension": ".py",
   "mimetype": "text/x-python",
   "name": "python",
   "nbconvert_exporter": "python",
   "pygments_lexer": "ipython3",
   "version": "3.8.2"
  }
 },
 "nbformat": 4,
 "nbformat_minor": 4
}
